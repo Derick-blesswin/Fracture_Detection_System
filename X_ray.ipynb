{
 "cells": [
  {
   "cell_type": "markdown",
   "id": "fc8300b3-7c68-4ba9-afb7-a755c054af09",
   "metadata": {},
   "source": [
    "## Importing libraries"
   ]
  },
  {
   "cell_type": "code",
   "execution_count": 5,
   "id": "14d146a7-c234-4d1b-95cc-65728cb85089",
   "metadata": {},
   "outputs": [],
   "source": [
    "import tensorflow as tf\n",
    "import matplotlib.pyplot as plt\n",
    "import pandas as pd\n",
    "import seaborn as sns"
   ]
  },
  {
   "cell_type": "markdown",
   "id": "51ea0f5a-4698-4095-b445-def68db5b5b5",
   "metadata": {},
   "source": [
    "### Data Processing"
   ]
  },
  {
   "cell_type": "markdown",
   "id": "4f2a0af5-32a9-467e-b84c-649e5b4e4ed1",
   "metadata": {},
   "source": [
    "### Training Image Processing "
   ]
  },
  {
   "cell_type": "code",
   "execution_count": 6,
   "id": "5c82f48c-d4aa-4d36-86f4-15e9702c634d",
   "metadata": {},
   "outputs": [
    {
     "name": "stdout",
     "output_type": "stream",
     "text": [
      "Found 989 files belonging to 10 classes.\n"
     ]
    }
   ],
   "source": [
    "training_set = tf.keras.utils.image_dataset_from_directory(\n",
    "    'train',\n",
    "    labels=\"inferred\",\n",
    "    label_mode=\"categorical\",\n",
    "    class_names=None,\n",
    "    color_mode=\"rgb\",\n",
    "    batch_size=32,\n",
    "    image_size=(128, 128),\n",
    "    shuffle=True,\n",
    "    seed=None,\n",
    "    validation_split=None,\n",
    "    subset=None,\n",
    "    interpolation=\"bilinear\",\n",
    "    follow_links=False,\n",
    "    crop_to_aspect_ratio=False,\n",
    "    pad_to_aspect_ratio=False,\n",
    "    \n",
    ")"
   ]
  },
  {
   "cell_type": "code",
   "execution_count": 49,
   "id": "4727524c-12bc-4738-9ad8-91fc22d346e6",
   "metadata": {},
   "outputs": [
    {
     "name": "stdout",
     "output_type": "stream",
     "text": [
      "Found 989 files belonging to 10 classes.\n"
     ]
    }
   ],
   "source": [
    "validation_set = tf.keras.utils.image_dataset_from_directory(\n",
    "    'valid',\n",
    "    labels=\"inferred\",\n",
    "    label_mode=\"categorical\",\n",
    "    class_names=None,\n",
    "    color_mode=\"rgb\",\n",
    "    batch_size=32,\n",
    "    image_size=(128, 128),\n",
    "    shuffle=True,\n",
    "    seed=None,\n",
    "    validation_split=None,\n",
    "    subset=None,\n",
    "    interpolation=\"bilinear\",\n",
    "    follow_links=False,\n",
    "    crop_to_aspect_ratio=False,\n",
    "    pad_to_aspect_ratio=False,\n",
    "    \n",
    ")"
   ]
  },
  {
   "cell_type": "code",
   "execution_count": 51,
   "id": "e5ba7a22-24b9-4153-86f4-d4ebdea40149",
   "metadata": {},
   "outputs": [
    {
     "data": {
      "text/plain": [
       "<_PrefetchDataset element_spec=(TensorSpec(shape=(None, 128, 128, 3), dtype=tf.float32, name=None), TensorSpec(shape=(None, 10), dtype=tf.float32, name=None))>"
      ]
     },
     "execution_count": 51,
     "metadata": {},
     "output_type": "execute_result"
    }
   ],
   "source": [
    "training_set"
   ]
  },
  {
   "cell_type": "code",
   "execution_count": 50,
   "id": "ec6cd817-d471-46cf-884c-36905ead4b15",
   "metadata": {},
   "outputs": [
    {
     "name": "stdout",
     "output_type": "stream",
     "text": [
      "tf.Tensor(\n",
      "[[[[0.00000000e+00 0.00000000e+00 0.00000000e+00]\n",
      "   [0.00000000e+00 0.00000000e+00 0.00000000e+00]\n",
      "   [1.00000000e+00 1.00000000e+00 1.00000000e+00]\n",
      "   ...\n",
      "   [2.18125000e+01 2.18125000e+01 2.18125000e+01]\n",
      "   [1.66875000e+01 1.66875000e+01 1.66875000e+01]\n",
      "   [1.20000000e+01 1.20000000e+01 1.20000000e+01]]\n",
      "\n",
      "  [[0.00000000e+00 0.00000000e+00 0.00000000e+00]\n",
      "   [0.00000000e+00 0.00000000e+00 0.00000000e+00]\n",
      "   [0.00000000e+00 0.00000000e+00 0.00000000e+00]\n",
      "   ...\n",
      "   [2.00000000e+01 2.00000000e+01 2.00000000e+01]\n",
      "   [1.46875000e+01 1.46875000e+01 1.46875000e+01]\n",
      "   [1.05625000e+01 1.05625000e+01 1.05625000e+01]]\n",
      "\n",
      "  [[0.00000000e+00 0.00000000e+00 0.00000000e+00]\n",
      "   [0.00000000e+00 0.00000000e+00 0.00000000e+00]\n",
      "   [0.00000000e+00 0.00000000e+00 0.00000000e+00]\n",
      "   ...\n",
      "   [1.60000000e+01 1.60000000e+01 1.60000000e+01]\n",
      "   [1.06875000e+01 1.06875000e+01 1.06875000e+01]\n",
      "   [7.56250000e+00 7.56250000e+00 7.56250000e+00]]\n",
      "\n",
      "  ...\n",
      "\n",
      "  [[2.40000000e+01 2.40000000e+01 2.40000000e+01]\n",
      "   [3.46875000e+01 3.46875000e+01 3.46875000e+01]\n",
      "   [4.70000000e+01 4.70000000e+01 4.70000000e+01]\n",
      "   ...\n",
      "   [1.00812500e+02 1.00812500e+02 1.00812500e+02]\n",
      "   [9.76875000e+01 9.76875000e+01 9.76875000e+01]\n",
      "   [9.31250000e+01 9.31250000e+01 9.31250000e+01]]\n",
      "\n",
      "  [[2.40000000e+01 2.40000000e+01 2.40000000e+01]\n",
      "   [3.66875000e+01 3.66875000e+01 3.66875000e+01]\n",
      "   [4.68125000e+01 4.68125000e+01 4.68125000e+01]\n",
      "   ...\n",
      "   [1.03000000e+02 1.03000000e+02 1.03000000e+02]\n",
      "   [1.01687500e+02 1.01687500e+02 1.01687500e+02]\n",
      "   [9.65625000e+01 9.65625000e+01 9.65625000e+01]]\n",
      "\n",
      "  [[3.55625000e+01 3.55625000e+01 3.55625000e+01]\n",
      "   [4.50000000e+01 4.50000000e+01 4.50000000e+01]\n",
      "   [5.20000000e+01 5.20000000e+01 5.20000000e+01]\n",
      "   ...\n",
      "   [9.98125000e+01 9.98125000e+01 9.98125000e+01]\n",
      "   [9.96875000e+01 9.96875000e+01 9.96875000e+01]\n",
      "   [9.80000000e+01 9.80000000e+01 9.80000000e+01]]]\n",
      "\n",
      "\n",
      " [[[2.53000000e+02 2.53000000e+02 2.53000000e+02]\n",
      "   [2.53000000e+02 2.53000000e+02 2.53000000e+02]\n",
      "   [2.53000000e+02 2.53000000e+02 2.53000000e+02]\n",
      "   ...\n",
      "   [2.40000000e+02 2.40000000e+02 2.40000000e+02]\n",
      "   [2.40000000e+02 2.40000000e+02 2.40000000e+02]\n",
      "   [2.40000000e+02 2.40000000e+02 2.40000000e+02]]\n",
      "\n",
      "  [[8.60000000e+01 8.60000000e+01 8.60000000e+01]\n",
      "   [8.60000000e+01 8.60000000e+01 8.60000000e+01]\n",
      "   [8.80000000e+01 8.80000000e+01 8.80000000e+01]\n",
      "   ...\n",
      "   [0.00000000e+00 0.00000000e+00 0.00000000e+00]\n",
      "   [0.00000000e+00 0.00000000e+00 0.00000000e+00]\n",
      "   [0.00000000e+00 0.00000000e+00 0.00000000e+00]]\n",
      "\n",
      "  [[8.20000000e+01 8.20000000e+01 8.20000000e+01]\n",
      "   [8.40000000e+01 8.40000000e+01 8.40000000e+01]\n",
      "   [8.50000000e+01 8.50000000e+01 8.50000000e+01]\n",
      "   ...\n",
      "   [2.00000000e+00 2.00000000e+00 2.00000000e+00]\n",
      "   [2.00000000e+00 2.00000000e+00 2.00000000e+00]\n",
      "   [2.00000000e+00 2.00000000e+00 2.00000000e+00]]\n",
      "\n",
      "  ...\n",
      "\n",
      "  [[3.70000000e+01 3.70000000e+01 3.70000000e+01]\n",
      "   [3.90000000e+01 3.90000000e+01 3.90000000e+01]\n",
      "   [4.00000000e+01 4.00000000e+01 4.00000000e+01]\n",
      "   ...\n",
      "   [3.00000000e+00 3.00000000e+00 3.00000000e+00]\n",
      "   [3.00000000e+00 3.00000000e+00 3.00000000e+00]\n",
      "   [3.00000000e+00 3.00000000e+00 3.00000000e+00]]\n",
      "\n",
      "  [[3.30000000e+01 3.30000000e+01 3.30000000e+01]\n",
      "   [3.30000000e+01 3.30000000e+01 3.30000000e+01]\n",
      "   [3.30000000e+01 3.30000000e+01 3.30000000e+01]\n",
      "   ...\n",
      "   [0.00000000e+00 0.00000000e+00 0.00000000e+00]\n",
      "   [0.00000000e+00 0.00000000e+00 0.00000000e+00]\n",
      "   [0.00000000e+00 0.00000000e+00 0.00000000e+00]]\n",
      "\n",
      "  [[2.00000000e+02 2.00000000e+02 2.00000000e+02]\n",
      "   [2.00000000e+02 2.00000000e+02 2.00000000e+02]\n",
      "   [2.00000000e+02 2.00000000e+02 2.00000000e+02]\n",
      "   ...\n",
      "   [2.46000000e+02 2.46000000e+02 2.46000000e+02]\n",
      "   [2.46000000e+02 2.46000000e+02 2.46000000e+02]\n",
      "   [2.46000000e+02 2.46000000e+02 2.46000000e+02]]]\n",
      "\n",
      "\n",
      " [[[7.00000000e+00 7.00000000e+00 7.00000000e+00]\n",
      "   [6.65234375e+00 6.65234375e+00 6.65234375e+00]\n",
      "   [1.82617188e+01 1.82617188e+01 1.82617188e+01]\n",
      "   ...\n",
      "   [9.00000000e+00 9.00000000e+00 9.00000000e+00]\n",
      "   [9.00000000e+00 9.00000000e+00 9.00000000e+00]\n",
      "   [9.00000000e+00 9.00000000e+00 9.00000000e+00]]\n",
      "\n",
      "  [[7.00000000e+00 7.00000000e+00 7.00000000e+00]\n",
      "   [6.65234375e+00 6.65234375e+00 6.65234375e+00]\n",
      "   [1.82617188e+01 1.82617188e+01 1.82617188e+01]\n",
      "   ...\n",
      "   [9.00000000e+00 9.00000000e+00 9.00000000e+00]\n",
      "   [9.00000000e+00 9.00000000e+00 9.00000000e+00]\n",
      "   [9.00000000e+00 9.00000000e+00 9.00000000e+00]]\n",
      "\n",
      "  [[7.00000000e+00 7.00000000e+00 7.00000000e+00]\n",
      "   [6.65234375e+00 6.65234375e+00 6.65234375e+00]\n",
      "   [1.70156250e+01 1.70156250e+01 1.70156250e+01]\n",
      "   ...\n",
      "   [9.00000000e+00 9.00000000e+00 9.00000000e+00]\n",
      "   [9.00000000e+00 9.00000000e+00 9.00000000e+00]\n",
      "   [9.00000000e+00 9.00000000e+00 9.00000000e+00]]\n",
      "\n",
      "  ...\n",
      "\n",
      "  [[1.20000000e+01 1.20000000e+01 1.20000000e+01]\n",
      "   [1.20000000e+01 1.20000000e+01 1.20000000e+01]\n",
      "   [1.20000000e+01 1.20000000e+01 1.20000000e+01]\n",
      "   ...\n",
      "   [1.20000000e+01 1.20000000e+01 1.20000000e+01]\n",
      "   [1.20000000e+01 1.20000000e+01 1.20000000e+01]\n",
      "   [1.20000000e+01 1.20000000e+01 1.20000000e+01]]\n",
      "\n",
      "  [[1.20000000e+01 1.20000000e+01 1.20000000e+01]\n",
      "   [1.20000000e+01 1.20000000e+01 1.20000000e+01]\n",
      "   [1.20000000e+01 1.20000000e+01 1.20000000e+01]\n",
      "   ...\n",
      "   [1.20000000e+01 1.20000000e+01 1.20000000e+01]\n",
      "   [1.20000000e+01 1.20000000e+01 1.20000000e+01]\n",
      "   [1.20000000e+01 1.20000000e+01 1.20000000e+01]]\n",
      "\n",
      "  [[1.20000000e+01 1.20000000e+01 1.20000000e+01]\n",
      "   [1.20000000e+01 1.20000000e+01 1.20000000e+01]\n",
      "   [1.20000000e+01 1.20000000e+01 1.20000000e+01]\n",
      "   ...\n",
      "   [1.20000000e+01 1.20000000e+01 1.20000000e+01]\n",
      "   [1.20000000e+01 1.20000000e+01 1.20000000e+01]\n",
      "   [1.20000000e+01 1.20000000e+01 1.20000000e+01]]]\n",
      "\n",
      "\n",
      " ...\n",
      "\n",
      "\n",
      " [[[1.60000000e+01 1.60000000e+01 1.60000000e+01]\n",
      "   [1.80000000e+01 1.80000000e+01 1.80000000e+01]\n",
      "   [1.99296875e+01 1.99296875e+01 1.99296875e+01]\n",
      "   ...\n",
      "   [1.40000000e+01 1.40000000e+01 1.40000000e+01]\n",
      "   [1.37578125e+01 1.37578125e+01 1.37578125e+01]\n",
      "   [1.10000000e+01 1.10000000e+01 1.10000000e+01]]\n",
      "\n",
      "  [[1.60000000e+01 1.60000000e+01 1.60000000e+01]\n",
      "   [1.80000000e+01 1.80000000e+01 1.80000000e+01]\n",
      "   [1.89296875e+01 1.89296875e+01 1.89296875e+01]\n",
      "   ...\n",
      "   [1.40000000e+01 1.40000000e+01 1.40000000e+01]\n",
      "   [1.37578125e+01 1.37578125e+01 1.37578125e+01]\n",
      "   [1.10000000e+01 1.10000000e+01 1.10000000e+01]]\n",
      "\n",
      "  [[1.55859375e+01 1.55859375e+01 1.55859375e+01]\n",
      "   [1.67578125e+01 1.67578125e+01 1.67578125e+01]\n",
      "   [1.80000000e+01 1.80000000e+01 1.80000000e+01]\n",
      "   ...\n",
      "   [1.29296875e+01 1.29296875e+01 1.29296875e+01]\n",
      "   [1.40000000e+01 1.40000000e+01 1.40000000e+01]\n",
      "   [1.20000000e+01 1.20000000e+01 1.20000000e+01]]\n",
      "\n",
      "  ...\n",
      "\n",
      "  [[4.50000000e+01 4.50000000e+01 4.50000000e+01]\n",
      "   [4.45156250e+01 4.45156250e+01 4.45156250e+01]\n",
      "   [5.26484375e+01 5.26484375e+01 5.26484375e+01]\n",
      "   ...\n",
      "   [9.00000000e+00 9.00000000e+00 9.00000000e+00]\n",
      "   [9.00000000e+00 9.00000000e+00 9.00000000e+00]\n",
      "   [9.00000000e+00 9.00000000e+00 9.00000000e+00]]\n",
      "\n",
      "  [[4.60000000e+01 4.60000000e+01 4.60000000e+01]\n",
      "   [4.60000000e+01 4.60000000e+01 4.60000000e+01]\n",
      "   [5.17187500e+01 5.17187500e+01 5.17187500e+01]\n",
      "   ...\n",
      "   [9.00000000e+00 9.00000000e+00 9.00000000e+00]\n",
      "   [8.75781250e+00 8.75781250e+00 8.75781250e+00]\n",
      "   [8.00000000e+00 8.00000000e+00 8.00000000e+00]]\n",
      "\n",
      "  [[4.60000000e+01 4.60000000e+01 4.60000000e+01]\n",
      "   [4.60000000e+01 4.60000000e+01 4.60000000e+01]\n",
      "   [5.07890625e+01 5.07890625e+01 5.07890625e+01]\n",
      "   ...\n",
      "   [1.10000000e+01 1.10000000e+01 1.10000000e+01]\n",
      "   [1.07578125e+01 1.07578125e+01 1.07578125e+01]\n",
      "   [1.00000000e+01 1.00000000e+01 1.00000000e+01]]]\n",
      "\n",
      "\n",
      " [[[1.46850281e+02 1.46850281e+02 1.46850281e+02]\n",
      "   [9.85351562e+01 9.85351562e+01 9.85351562e+01]\n",
      "   [6.96953125e+01 6.96953125e+01 6.96953125e+01]\n",
      "   ...\n",
      "   [1.70000000e+01 1.70000000e+01 1.70000000e+01]\n",
      "   [1.96705627e+01 1.96705627e+01 1.96705627e+01]\n",
      "   [2.31679688e+01 2.31679688e+01 2.31679688e+01]]\n",
      "\n",
      "  [[1.46024750e+02 1.46024750e+02 1.46024750e+02]\n",
      "   [9.95117188e+01 9.95117188e+01 9.95117188e+01]\n",
      "   [7.45273438e+01 7.45273438e+01 7.45273438e+01]\n",
      "   ...\n",
      "   [1.76809387e+01 1.76809387e+01 1.76809387e+01]\n",
      "   [2.05039062e+01 2.05039062e+01 2.05039062e+01]\n",
      "   [2.40013123e+01 2.40013123e+01 2.40013123e+01]]\n",
      "\n",
      "  [[1.42946198e+02 1.42946198e+02 1.42946198e+02]\n",
      "   [9.75273438e+01 9.75273438e+01 9.75273438e+01]\n",
      "   [7.35195312e+01 7.35195312e+01 7.35195312e+01]\n",
      "   ...\n",
      "   [1.95708313e+01 1.95708313e+01 1.95708313e+01]\n",
      "   [2.18464050e+01 2.18464050e+01 2.18464050e+01]\n",
      "   [2.61679688e+01 2.61679688e+01 2.61679688e+01]]\n",
      "\n",
      "  ...\n",
      "\n",
      "  [[0.00000000e+00 0.00000000e+00 0.00000000e+00]\n",
      "   [0.00000000e+00 0.00000000e+00 0.00000000e+00]\n",
      "   [0.00000000e+00 0.00000000e+00 0.00000000e+00]\n",
      "   ...\n",
      "   [0.00000000e+00 0.00000000e+00 0.00000000e+00]\n",
      "   [0.00000000e+00 0.00000000e+00 0.00000000e+00]\n",
      "   [0.00000000e+00 0.00000000e+00 0.00000000e+00]]\n",
      "\n",
      "  [[0.00000000e+00 0.00000000e+00 0.00000000e+00]\n",
      "   [0.00000000e+00 0.00000000e+00 0.00000000e+00]\n",
      "   [0.00000000e+00 0.00000000e+00 0.00000000e+00]\n",
      "   ...\n",
      "   [0.00000000e+00 0.00000000e+00 0.00000000e+00]\n",
      "   [0.00000000e+00 0.00000000e+00 0.00000000e+00]\n",
      "   [0.00000000e+00 0.00000000e+00 0.00000000e+00]]\n",
      "\n",
      "  [[0.00000000e+00 0.00000000e+00 0.00000000e+00]\n",
      "   [0.00000000e+00 0.00000000e+00 0.00000000e+00]\n",
      "   [0.00000000e+00 0.00000000e+00 0.00000000e+00]\n",
      "   ...\n",
      "   [0.00000000e+00 0.00000000e+00 0.00000000e+00]\n",
      "   [0.00000000e+00 0.00000000e+00 0.00000000e+00]\n",
      "   [0.00000000e+00 0.00000000e+00 0.00000000e+00]]]\n",
      "\n",
      "\n",
      " [[[2.26343750e+02 2.26343750e+02 2.26343750e+02]\n",
      "   [2.25906250e+02 2.25906250e+02 2.25906250e+02]\n",
      "   [2.20843750e+02 2.20843750e+02 2.20843750e+02]\n",
      "   ...\n",
      "   [2.11843750e+02 2.11843750e+02 2.11843750e+02]\n",
      "   [2.20781250e+02 2.20781250e+02 2.20781250e+02]\n",
      "   [2.22343750e+02 2.22343750e+02 2.22343750e+02]]\n",
      "\n",
      "  [[6.34375000e+00 6.34375000e+00 6.34375000e+00]\n",
      "   [8.00000000e+00 8.00000000e+00 8.00000000e+00]\n",
      "   [8.00000000e+00 8.00000000e+00 8.00000000e+00]\n",
      "   ...\n",
      "   [1.44281250e+02 1.44281250e+02 1.44281250e+02]\n",
      "   [1.48875000e+02 1.48875000e+02 1.48875000e+02]\n",
      "   [1.49343750e+02 1.49343750e+02 1.49343750e+02]]\n",
      "\n",
      "  [[6.56250000e-01 6.56250000e-01 6.56250000e-01]\n",
      "   [0.00000000e+00 0.00000000e+00 0.00000000e+00]\n",
      "   [0.00000000e+00 0.00000000e+00 0.00000000e+00]\n",
      "   ...\n",
      "   [1.51843750e+02 1.51843750e+02 1.51843750e+02]\n",
      "   [1.59812500e+02 1.59812500e+02 1.59812500e+02]\n",
      "   [1.61343750e+02 1.61343750e+02 1.61343750e+02]]\n",
      "\n",
      "  ...\n",
      "\n",
      "  [[2.00000000e+00 2.00000000e+00 2.00000000e+00]\n",
      "   [9.68750000e-01 9.68750000e-01 9.68750000e-01]\n",
      "   [0.00000000e+00 0.00000000e+00 0.00000000e+00]\n",
      "   ...\n",
      "   [1.00000000e+00 1.00000000e+00 1.00000000e+00]\n",
      "   [1.00000000e+00 1.00000000e+00 1.00000000e+00]\n",
      "   [1.00000000e+00 1.00000000e+00 1.00000000e+00]]\n",
      "\n",
      "  [[2.96875000e+00 2.96875000e+00 2.96875000e+00]\n",
      "   [9.37500000e-02 9.37500000e-02 9.37500000e-02]\n",
      "   [3.00000000e+00 3.00000000e+00 3.00000000e+00]\n",
      "   ...\n",
      "   [1.28125000e+00 1.28125000e+00 1.28125000e+00]\n",
      "   [3.93750000e+00 3.93750000e+00 3.93750000e+00]\n",
      "   [3.68750000e+00 3.68750000e+00 3.68750000e+00]]\n",
      "\n",
      "  [[1.49625000e+02 1.49625000e+02 1.49625000e+02]\n",
      "   [1.45031250e+02 1.45031250e+02 1.45031250e+02]\n",
      "   [1.46000000e+02 1.46000000e+02 1.46000000e+02]\n",
      "   ...\n",
      "   [1.39281250e+02 1.39281250e+02 1.39281250e+02]\n",
      "   [1.38062500e+02 1.38062500e+02 1.38062500e+02]\n",
      "   [1.36343750e+02 1.36343750e+02 1.36343750e+02]]]], shape=(32, 128, 128, 3), dtype=float32) (32, 128, 128, 3)\n",
      "tf.Tensor(\n",
      "[[0. 0. 0. 0. 1. 0. 0. 0. 0. 0.]\n",
      " [0. 0. 0. 0. 0. 0. 0. 0. 0. 1.]\n",
      " [0. 0. 0. 0. 0. 0. 0. 1. 0. 0.]\n",
      " [0. 0. 0. 0. 0. 0. 0. 1. 0. 0.]\n",
      " [0. 1. 0. 0. 0. 0. 0. 0. 0. 0.]\n",
      " [0. 0. 1. 0. 0. 0. 0. 0. 0. 0.]\n",
      " [0. 0. 0. 0. 0. 0. 1. 0. 0. 0.]\n",
      " [0. 0. 0. 0. 0. 0. 0. 0. 1. 0.]\n",
      " [0. 0. 0. 0. 0. 1. 0. 0. 0. 0.]\n",
      " [0. 0. 0. 0. 0. 0. 1. 0. 0. 0.]\n",
      " [0. 0. 0. 0. 0. 0. 0. 1. 0. 0.]\n",
      " [0. 1. 0. 0. 0. 0. 0. 0. 0. 0.]\n",
      " [0. 0. 0. 0. 0. 0. 0. 0. 0. 1.]\n",
      " [0. 0. 0. 1. 0. 0. 0. 0. 0. 0.]\n",
      " [0. 0. 0. 0. 0. 0. 0. 1. 0. 0.]\n",
      " [0. 0. 0. 0. 0. 0. 0. 0. 0. 1.]\n",
      " [1. 0. 0. 0. 0. 0. 0. 0. 0. 0.]\n",
      " [0. 0. 0. 0. 0. 0. 0. 1. 0. 0.]\n",
      " [0. 0. 0. 0. 0. 0. 0. 0. 0. 1.]\n",
      " [0. 1. 0. 0. 0. 0. 0. 0. 0. 0.]\n",
      " [0. 0. 0. 0. 0. 0. 1. 0. 0. 0.]\n",
      " [0. 0. 0. 0. 0. 1. 0. 0. 0. 0.]\n",
      " [0. 0. 0. 0. 0. 0. 0. 0. 1. 0.]\n",
      " [0. 0. 0. 0. 0. 0. 0. 1. 0. 0.]\n",
      " [0. 0. 0. 0. 0. 0. 0. 0. 0. 1.]\n",
      " [0. 0. 1. 0. 0. 0. 0. 0. 0. 0.]\n",
      " [0. 0. 0. 1. 0. 0. 0. 0. 0. 0.]\n",
      " [0. 0. 0. 0. 0. 0. 0. 0. 1. 0.]\n",
      " [0. 0. 0. 0. 1. 0. 0. 0. 0. 0.]\n",
      " [0. 0. 0. 1. 0. 0. 0. 0. 0. 0.]\n",
      " [0. 1. 0. 0. 0. 0. 0. 0. 0. 0.]\n",
      " [0. 0. 0. 0. 0. 0. 0. 1. 0. 0.]], shape=(32, 10), dtype=float32) (32, 10)\n"
     ]
    }
   ],
   "source": [
    "for x,y in training_set:\n",
    "    print(x,x.shape)\n",
    "    print(y,y.shape)\n",
    "    break"
   ]
  },
  {
   "cell_type": "markdown",
   "id": "96a67d93-d0b4-4019-a999-98f85c5ed93e",
   "metadata": {},
   "source": [
    "## Building Model"
   ]
  },
  {
   "cell_type": "code",
   "execution_count": 52,
   "id": "d8ff1df0-1816-4fc5-a0e4-8affc393d980",
   "metadata": {},
   "outputs": [],
   "source": [
    "from tensorflow.keras.layers import Dense,Conv2D,MaxPool2D,Flatten\n",
    "from tensorflow.keras.models import Sequential\n",
    "\n",
    "\n",
    "\n"
   ]
  },
  {
   "cell_type": "code",
   "execution_count": 53,
   "id": "3a0d2e9b-b099-44c3-8e98-8d5ec7095682",
   "metadata": {},
   "outputs": [],
   "source": [
    "model = Sequential()\n"
   ]
  },
  {
   "cell_type": "code",
   "execution_count": 54,
   "id": "6f69ab0c-9aaf-4d99-ab79-bffad1888090",
   "metadata": {},
   "outputs": [],
   "source": [
    "model.add(Conv2D(filters = 32, kernel_size = 3, padding = \"same\", activation = \"relu\", input_shape = [128,128,3]))\n",
    "model.add(Conv2D(filters = 32, kernel_size = 3, padding = \"same\", activation = \"relu\",))\n",
    "model.add(MaxPool2D(pool_size=2, strides = 2))\n",
    "\n",
    "\n"
   ]
  },
  {
   "cell_type": "code",
   "execution_count": 55,
   "id": "4f8b81ab-8557-446f-8fa2-f505569b2d50",
   "metadata": {},
   "outputs": [],
   "source": [
    "model.add(Conv2D(filters = 64, kernel_size = 3, padding = \"same\", activation = \"relu\", input_shape = [128,128,3]))\n",
    "model.add(Conv2D(filters = 64, kernel_size = 3, padding = \"same\", activation = \"relu\",))\n",
    "model.add(MaxPool2D(pool_size=2, strides = 2))\n",
    "\n"
   ]
  },
  {
   "cell_type": "code",
   "execution_count": 56,
   "id": "6f6d5c94-98f5-4502-91fc-6e57c39c6e9b",
   "metadata": {},
   "outputs": [],
   "source": [
    "model.add(Conv2D(filters = 128, kernel_size = 3, padding = \"same\", activation = \"relu\", input_shape = [128,128,3]))\n",
    "model.add(Conv2D(filters = 128, kernel_size = 3, padding = \"same\", activation = \"relu\",))\n",
    "model.add(MaxPool2D(pool_size=2, strides = 2))"
   ]
  },
  {
   "cell_type": "code",
   "execution_count": 57,
   "id": "e2908956-eef4-4ce5-be5e-7792d79da37b",
   "metadata": {},
   "outputs": [],
   "source": [
    "model.add(Flatten())"
   ]
  },
  {
   "cell_type": "code",
   "execution_count": 58,
   "id": "71a9e142-e75b-41ca-afd8-4d72a8c591e4",
   "metadata": {},
   "outputs": [],
   "source": [
    "model.add(Dense(units=1024,activation=\"relu\"))"
   ]
  },
  {
   "cell_type": "code",
   "execution_count": 59,
   "id": "5f72d9e9-22c1-467c-9e26-c7cca22f5748",
   "metadata": {},
   "outputs": [],
   "source": [
    "#output layer\n",
    "\n",
    "model.add(Dense(units = 10, activation=\"softmax\"))"
   ]
  },
  {
   "cell_type": "markdown",
   "id": "66e75c3f-58f8-4dad-b60a-e268166c1909",
   "metadata": {},
   "source": [
    "## Compliing Model"
   ]
  },
  {
   "cell_type": "code",
   "execution_count": 60,
   "id": "cc538e5c-b739-44d4-84ed-69809412a77f",
   "metadata": {},
   "outputs": [],
   "source": [
    "model.compile(optimizer='adam', loss='categorical_crossentropy',metrics=['accuracy'])"
   ]
  },
  {
   "cell_type": "code",
   "execution_count": 61,
   "id": "7a8a57c4-b9b7-4792-83bd-f184262b122f",
   "metadata": {},
   "outputs": [
    {
     "data": {
      "text/html": [
       "<pre style=\"white-space:pre;overflow-x:auto;line-height:normal;font-family:Menlo,'DejaVu Sans Mono',consolas,'Courier New',monospace\"><span style=\"font-weight: bold\">Model: \"sequential_2\"</span>\n",
       "</pre>\n"
      ],
      "text/plain": [
       "\u001b[1mModel: \"sequential_2\"\u001b[0m\n"
      ]
     },
     "metadata": {},
     "output_type": "display_data"
    },
    {
     "data": {
      "text/html": [
       "<pre style=\"white-space:pre;overflow-x:auto;line-height:normal;font-family:Menlo,'DejaVu Sans Mono',consolas,'Courier New',monospace\">┏━━━━━━━━━━━━━━━━━━━━━━━━━━━━━━━━━━━━━━┳━━━━━━━━━━━━━━━━━━━━━━━━━━━━━┳━━━━━━━━━━━━━━━━━┓\n",
       "┃<span style=\"font-weight: bold\"> Layer (type)                         </span>┃<span style=\"font-weight: bold\"> Output Shape                </span>┃<span style=\"font-weight: bold\">         Param # </span>┃\n",
       "┡━━━━━━━━━━━━━━━━━━━━━━━━━━━━━━━━━━━━━━╇━━━━━━━━━━━━━━━━━━━━━━━━━━━━━╇━━━━━━━━━━━━━━━━━┩\n",
       "│ conv2d_15 (<span style=\"color: #0087ff; text-decoration-color: #0087ff\">Conv2D</span>)                   │ (<span style=\"color: #00d7ff; text-decoration-color: #00d7ff\">None</span>, <span style=\"color: #00af00; text-decoration-color: #00af00\">128</span>, <span style=\"color: #00af00; text-decoration-color: #00af00\">128</span>, <span style=\"color: #00af00; text-decoration-color: #00af00\">32</span>)        │             <span style=\"color: #00af00; text-decoration-color: #00af00\">896</span> │\n",
       "├──────────────────────────────────────┼─────────────────────────────┼─────────────────┤\n",
       "│ conv2d_16 (<span style=\"color: #0087ff; text-decoration-color: #0087ff\">Conv2D</span>)                   │ (<span style=\"color: #00d7ff; text-decoration-color: #00d7ff\">None</span>, <span style=\"color: #00af00; text-decoration-color: #00af00\">128</span>, <span style=\"color: #00af00; text-decoration-color: #00af00\">128</span>, <span style=\"color: #00af00; text-decoration-color: #00af00\">32</span>)        │           <span style=\"color: #00af00; text-decoration-color: #00af00\">9,248</span> │\n",
       "├──────────────────────────────────────┼─────────────────────────────┼─────────────────┤\n",
       "│ max_pooling2d_7 (<span style=\"color: #0087ff; text-decoration-color: #0087ff\">MaxPooling2D</span>)       │ (<span style=\"color: #00d7ff; text-decoration-color: #00d7ff\">None</span>, <span style=\"color: #00af00; text-decoration-color: #00af00\">64</span>, <span style=\"color: #00af00; text-decoration-color: #00af00\">64</span>, <span style=\"color: #00af00; text-decoration-color: #00af00\">32</span>)          │               <span style=\"color: #00af00; text-decoration-color: #00af00\">0</span> │\n",
       "├──────────────────────────────────────┼─────────────────────────────┼─────────────────┤\n",
       "│ conv2d_17 (<span style=\"color: #0087ff; text-decoration-color: #0087ff\">Conv2D</span>)                   │ (<span style=\"color: #00d7ff; text-decoration-color: #00d7ff\">None</span>, <span style=\"color: #00af00; text-decoration-color: #00af00\">64</span>, <span style=\"color: #00af00; text-decoration-color: #00af00\">64</span>, <span style=\"color: #00af00; text-decoration-color: #00af00\">64</span>)          │          <span style=\"color: #00af00; text-decoration-color: #00af00\">18,496</span> │\n",
       "├──────────────────────────────────────┼─────────────────────────────┼─────────────────┤\n",
       "│ conv2d_18 (<span style=\"color: #0087ff; text-decoration-color: #0087ff\">Conv2D</span>)                   │ (<span style=\"color: #00d7ff; text-decoration-color: #00d7ff\">None</span>, <span style=\"color: #00af00; text-decoration-color: #00af00\">64</span>, <span style=\"color: #00af00; text-decoration-color: #00af00\">64</span>, <span style=\"color: #00af00; text-decoration-color: #00af00\">64</span>)          │          <span style=\"color: #00af00; text-decoration-color: #00af00\">36,928</span> │\n",
       "├──────────────────────────────────────┼─────────────────────────────┼─────────────────┤\n",
       "│ max_pooling2d_8 (<span style=\"color: #0087ff; text-decoration-color: #0087ff\">MaxPooling2D</span>)       │ (<span style=\"color: #00d7ff; text-decoration-color: #00d7ff\">None</span>, <span style=\"color: #00af00; text-decoration-color: #00af00\">32</span>, <span style=\"color: #00af00; text-decoration-color: #00af00\">32</span>, <span style=\"color: #00af00; text-decoration-color: #00af00\">64</span>)          │               <span style=\"color: #00af00; text-decoration-color: #00af00\">0</span> │\n",
       "├──────────────────────────────────────┼─────────────────────────────┼─────────────────┤\n",
       "│ conv2d_19 (<span style=\"color: #0087ff; text-decoration-color: #0087ff\">Conv2D</span>)                   │ (<span style=\"color: #00d7ff; text-decoration-color: #00d7ff\">None</span>, <span style=\"color: #00af00; text-decoration-color: #00af00\">32</span>, <span style=\"color: #00af00; text-decoration-color: #00af00\">32</span>, <span style=\"color: #00af00; text-decoration-color: #00af00\">128</span>)         │          <span style=\"color: #00af00; text-decoration-color: #00af00\">73,856</span> │\n",
       "├──────────────────────────────────────┼─────────────────────────────┼─────────────────┤\n",
       "│ conv2d_20 (<span style=\"color: #0087ff; text-decoration-color: #0087ff\">Conv2D</span>)                   │ (<span style=\"color: #00d7ff; text-decoration-color: #00d7ff\">None</span>, <span style=\"color: #00af00; text-decoration-color: #00af00\">32</span>, <span style=\"color: #00af00; text-decoration-color: #00af00\">32</span>, <span style=\"color: #00af00; text-decoration-color: #00af00\">128</span>)         │         <span style=\"color: #00af00; text-decoration-color: #00af00\">147,584</span> │\n",
       "├──────────────────────────────────────┼─────────────────────────────┼─────────────────┤\n",
       "│ max_pooling2d_9 (<span style=\"color: #0087ff; text-decoration-color: #0087ff\">MaxPooling2D</span>)       │ (<span style=\"color: #00d7ff; text-decoration-color: #00d7ff\">None</span>, <span style=\"color: #00af00; text-decoration-color: #00af00\">16</span>, <span style=\"color: #00af00; text-decoration-color: #00af00\">16</span>, <span style=\"color: #00af00; text-decoration-color: #00af00\">128</span>)         │               <span style=\"color: #00af00; text-decoration-color: #00af00\">0</span> │\n",
       "├──────────────────────────────────────┼─────────────────────────────┼─────────────────┤\n",
       "│ flatten_2 (<span style=\"color: #0087ff; text-decoration-color: #0087ff\">Flatten</span>)                  │ (<span style=\"color: #00d7ff; text-decoration-color: #00d7ff\">None</span>, <span style=\"color: #00af00; text-decoration-color: #00af00\">32768</span>)               │               <span style=\"color: #00af00; text-decoration-color: #00af00\">0</span> │\n",
       "├──────────────────────────────────────┼─────────────────────────────┼─────────────────┤\n",
       "│ dense_10 (<span style=\"color: #0087ff; text-decoration-color: #0087ff\">Dense</span>)                     │ (<span style=\"color: #00d7ff; text-decoration-color: #00d7ff\">None</span>, <span style=\"color: #00af00; text-decoration-color: #00af00\">1024</span>)                │      <span style=\"color: #00af00; text-decoration-color: #00af00\">33,555,456</span> │\n",
       "├──────────────────────────────────────┼─────────────────────────────┼─────────────────┤\n",
       "│ dense_11 (<span style=\"color: #0087ff; text-decoration-color: #0087ff\">Dense</span>)                     │ (<span style=\"color: #00d7ff; text-decoration-color: #00d7ff\">None</span>, <span style=\"color: #00af00; text-decoration-color: #00af00\">10</span>)                  │          <span style=\"color: #00af00; text-decoration-color: #00af00\">10,250</span> │\n",
       "└──────────────────────────────────────┴─────────────────────────────┴─────────────────┘\n",
       "</pre>\n"
      ],
      "text/plain": [
       "┏━━━━━━━━━━━━━━━━━━━━━━━━━━━━━━━━━━━━━━┳━━━━━━━━━━━━━━━━━━━━━━━━━━━━━┳━━━━━━━━━━━━━━━━━┓\n",
       "┃\u001b[1m \u001b[0m\u001b[1mLayer (type)                        \u001b[0m\u001b[1m \u001b[0m┃\u001b[1m \u001b[0m\u001b[1mOutput Shape               \u001b[0m\u001b[1m \u001b[0m┃\u001b[1m \u001b[0m\u001b[1m        Param #\u001b[0m\u001b[1m \u001b[0m┃\n",
       "┡━━━━━━━━━━━━━━━━━━━━━━━━━━━━━━━━━━━━━━╇━━━━━━━━━━━━━━━━━━━━━━━━━━━━━╇━━━━━━━━━━━━━━━━━┩\n",
       "│ conv2d_15 (\u001b[38;5;33mConv2D\u001b[0m)                   │ (\u001b[38;5;45mNone\u001b[0m, \u001b[38;5;34m128\u001b[0m, \u001b[38;5;34m128\u001b[0m, \u001b[38;5;34m32\u001b[0m)        │             \u001b[38;5;34m896\u001b[0m │\n",
       "├──────────────────────────────────────┼─────────────────────────────┼─────────────────┤\n",
       "│ conv2d_16 (\u001b[38;5;33mConv2D\u001b[0m)                   │ (\u001b[38;5;45mNone\u001b[0m, \u001b[38;5;34m128\u001b[0m, \u001b[38;5;34m128\u001b[0m, \u001b[38;5;34m32\u001b[0m)        │           \u001b[38;5;34m9,248\u001b[0m │\n",
       "├──────────────────────────────────────┼─────────────────────────────┼─────────────────┤\n",
       "│ max_pooling2d_7 (\u001b[38;5;33mMaxPooling2D\u001b[0m)       │ (\u001b[38;5;45mNone\u001b[0m, \u001b[38;5;34m64\u001b[0m, \u001b[38;5;34m64\u001b[0m, \u001b[38;5;34m32\u001b[0m)          │               \u001b[38;5;34m0\u001b[0m │\n",
       "├──────────────────────────────────────┼─────────────────────────────┼─────────────────┤\n",
       "│ conv2d_17 (\u001b[38;5;33mConv2D\u001b[0m)                   │ (\u001b[38;5;45mNone\u001b[0m, \u001b[38;5;34m64\u001b[0m, \u001b[38;5;34m64\u001b[0m, \u001b[38;5;34m64\u001b[0m)          │          \u001b[38;5;34m18,496\u001b[0m │\n",
       "├──────────────────────────────────────┼─────────────────────────────┼─────────────────┤\n",
       "│ conv2d_18 (\u001b[38;5;33mConv2D\u001b[0m)                   │ (\u001b[38;5;45mNone\u001b[0m, \u001b[38;5;34m64\u001b[0m, \u001b[38;5;34m64\u001b[0m, \u001b[38;5;34m64\u001b[0m)          │          \u001b[38;5;34m36,928\u001b[0m │\n",
       "├──────────────────────────────────────┼─────────────────────────────┼─────────────────┤\n",
       "│ max_pooling2d_8 (\u001b[38;5;33mMaxPooling2D\u001b[0m)       │ (\u001b[38;5;45mNone\u001b[0m, \u001b[38;5;34m32\u001b[0m, \u001b[38;5;34m32\u001b[0m, \u001b[38;5;34m64\u001b[0m)          │               \u001b[38;5;34m0\u001b[0m │\n",
       "├──────────────────────────────────────┼─────────────────────────────┼─────────────────┤\n",
       "│ conv2d_19 (\u001b[38;5;33mConv2D\u001b[0m)                   │ (\u001b[38;5;45mNone\u001b[0m, \u001b[38;5;34m32\u001b[0m, \u001b[38;5;34m32\u001b[0m, \u001b[38;5;34m128\u001b[0m)         │          \u001b[38;5;34m73,856\u001b[0m │\n",
       "├──────────────────────────────────────┼─────────────────────────────┼─────────────────┤\n",
       "│ conv2d_20 (\u001b[38;5;33mConv2D\u001b[0m)                   │ (\u001b[38;5;45mNone\u001b[0m, \u001b[38;5;34m32\u001b[0m, \u001b[38;5;34m32\u001b[0m, \u001b[38;5;34m128\u001b[0m)         │         \u001b[38;5;34m147,584\u001b[0m │\n",
       "├──────────────────────────────────────┼─────────────────────────────┼─────────────────┤\n",
       "│ max_pooling2d_9 (\u001b[38;5;33mMaxPooling2D\u001b[0m)       │ (\u001b[38;5;45mNone\u001b[0m, \u001b[38;5;34m16\u001b[0m, \u001b[38;5;34m16\u001b[0m, \u001b[38;5;34m128\u001b[0m)         │               \u001b[38;5;34m0\u001b[0m │\n",
       "├──────────────────────────────────────┼─────────────────────────────┼─────────────────┤\n",
       "│ flatten_2 (\u001b[38;5;33mFlatten\u001b[0m)                  │ (\u001b[38;5;45mNone\u001b[0m, \u001b[38;5;34m32768\u001b[0m)               │               \u001b[38;5;34m0\u001b[0m │\n",
       "├──────────────────────────────────────┼─────────────────────────────┼─────────────────┤\n",
       "│ dense_10 (\u001b[38;5;33mDense\u001b[0m)                     │ (\u001b[38;5;45mNone\u001b[0m, \u001b[38;5;34m1024\u001b[0m)                │      \u001b[38;5;34m33,555,456\u001b[0m │\n",
       "├──────────────────────────────────────┼─────────────────────────────┼─────────────────┤\n",
       "│ dense_11 (\u001b[38;5;33mDense\u001b[0m)                     │ (\u001b[38;5;45mNone\u001b[0m, \u001b[38;5;34m10\u001b[0m)                  │          \u001b[38;5;34m10,250\u001b[0m │\n",
       "└──────────────────────────────────────┴─────────────────────────────┴─────────────────┘\n"
      ]
     },
     "metadata": {},
     "output_type": "display_data"
    },
    {
     "data": {
      "text/html": [
       "<pre style=\"white-space:pre;overflow-x:auto;line-height:normal;font-family:Menlo,'DejaVu Sans Mono',consolas,'Courier New',monospace\"><span style=\"font-weight: bold\"> Total params: </span><span style=\"color: #00af00; text-decoration-color: #00af00\">33,852,714</span> (129.14 MB)\n",
       "</pre>\n"
      ],
      "text/plain": [
       "\u001b[1m Total params: \u001b[0m\u001b[38;5;34m33,852,714\u001b[0m (129.14 MB)\n"
      ]
     },
     "metadata": {},
     "output_type": "display_data"
    },
    {
     "data": {
      "text/html": [
       "<pre style=\"white-space:pre;overflow-x:auto;line-height:normal;font-family:Menlo,'DejaVu Sans Mono',consolas,'Courier New',monospace\"><span style=\"font-weight: bold\"> Trainable params: </span><span style=\"color: #00af00; text-decoration-color: #00af00\">33,852,714</span> (129.14 MB)\n",
       "</pre>\n"
      ],
      "text/plain": [
       "\u001b[1m Trainable params: \u001b[0m\u001b[38;5;34m33,852,714\u001b[0m (129.14 MB)\n"
      ]
     },
     "metadata": {},
     "output_type": "display_data"
    },
    {
     "data": {
      "text/html": [
       "<pre style=\"white-space:pre;overflow-x:auto;line-height:normal;font-family:Menlo,'DejaVu Sans Mono',consolas,'Courier New',monospace\"><span style=\"font-weight: bold\"> Non-trainable params: </span><span style=\"color: #00af00; text-decoration-color: #00af00\">0</span> (0.00 B)\n",
       "</pre>\n"
      ],
      "text/plain": [
       "\u001b[1m Non-trainable params: \u001b[0m\u001b[38;5;34m0\u001b[0m (0.00 B)\n"
      ]
     },
     "metadata": {},
     "output_type": "display_data"
    }
   ],
   "source": [
    "model.summary()"
   ]
  },
  {
   "cell_type": "markdown",
   "id": "57043eaf-9ae6-4fb6-a1f8-f099512b07ad",
   "metadata": {},
   "source": [
    "## Model Training"
   ]
  },
  {
   "cell_type": "code",
   "execution_count": 64,
   "id": "ebf6f176-34ea-40cb-b88f-85f1a18ecdde",
   "metadata": {},
   "outputs": [
    {
     "name": "stdout",
     "output_type": "stream",
     "text": [
      "Epoch 1/20\n",
      "\u001b[1m31/31\u001b[0m \u001b[32m━━━━━━━━━━━━━━━━━━━━\u001b[0m\u001b[37m\u001b[0m \u001b[1m30s\u001b[0m 969ms/step - accuracy: 0.6699 - loss: 0.9391 - val_accuracy: 0.6542 - val_loss: 1.0995\n",
      "Epoch 2/20\n",
      "\u001b[1m31/31\u001b[0m \u001b[32m━━━━━━━━━━━━━━━━━━━━\u001b[0m\u001b[37m\u001b[0m \u001b[1m38s\u001b[0m 1s/step - accuracy: 0.6322 - loss: 1.0904 - val_accuracy: 0.7361 - val_loss: 0.8211\n",
      "Epoch 3/20\n",
      "\u001b[1m31/31\u001b[0m \u001b[32m━━━━━━━━━━━━━━━━━━━━\u001b[0m\u001b[37m\u001b[0m \u001b[1m30s\u001b[0m 950ms/step - accuracy: 0.7270 - loss: 0.8249 - val_accuracy: 0.7958 - val_loss: 0.6241\n",
      "Epoch 4/20\n",
      "\u001b[1m31/31\u001b[0m \u001b[32m━━━━━━━━━━━━━━━━━━━━\u001b[0m\u001b[37m\u001b[0m \u001b[1m29s\u001b[0m 945ms/step - accuracy: 0.7783 - loss: 0.8016 - val_accuracy: 0.8362 - val_loss: 0.5423\n",
      "Epoch 5/20\n",
      "\u001b[1m31/31\u001b[0m \u001b[32m━━━━━━━━━━━━━━━━━━━━\u001b[0m\u001b[37m\u001b[0m \u001b[1m33s\u001b[0m 1s/step - accuracy: 0.8139 - loss: 0.6345 - val_accuracy: 0.8514 - val_loss: 0.5315\n",
      "Epoch 6/20\n",
      "\u001b[1m31/31\u001b[0m \u001b[32m━━━━━━━━━━━━━━━━━━━━\u001b[0m\u001b[37m\u001b[0m \u001b[1m35s\u001b[0m 1s/step - accuracy: 0.8111 - loss: 0.6938 - val_accuracy: 0.8736 - val_loss: 0.4629\n",
      "Epoch 7/20\n",
      "\u001b[1m31/31\u001b[0m \u001b[32m━━━━━━━━━━━━━━━━━━━━\u001b[0m\u001b[37m\u001b[0m \u001b[1m35s\u001b[0m 1s/step - accuracy: 0.8577 - loss: 0.4695 - val_accuracy: 0.8918 - val_loss: 0.3754\n",
      "Epoch 8/20\n",
      "\u001b[1m31/31\u001b[0m \u001b[32m━━━━━━━━━━━━━━━━━━━━\u001b[0m\u001b[37m\u001b[0m \u001b[1m34s\u001b[0m 1s/step - accuracy: 0.8851 - loss: 0.4146 - val_accuracy: 0.9050 - val_loss: 0.3071\n",
      "Epoch 9/20\n",
      "\u001b[1m31/31\u001b[0m \u001b[32m━━━━━━━━━━━━━━━━━━━━\u001b[0m\u001b[37m\u001b[0m \u001b[1m36s\u001b[0m 1s/step - accuracy: 0.8777 - loss: 0.5206 - val_accuracy: 0.9130 - val_loss: 0.3127\n",
      "Epoch 10/20\n",
      "\u001b[1m31/31\u001b[0m \u001b[32m━━━━━━━━━━━━━━━━━━━━\u001b[0m\u001b[37m\u001b[0m \u001b[1m37s\u001b[0m 1s/step - accuracy: 0.8836 - loss: 0.3704 - val_accuracy: 0.9120 - val_loss: 0.3182\n",
      "Epoch 11/20\n",
      "\u001b[1m31/31\u001b[0m \u001b[32m━━━━━━━━━━━━━━━━━━━━\u001b[0m\u001b[37m\u001b[0m \u001b[1m36s\u001b[0m 1s/step - accuracy: 0.8694 - loss: 0.4534 - val_accuracy: 0.9120 - val_loss: 0.3156\n",
      "Epoch 12/20\n",
      "\u001b[1m31/31\u001b[0m \u001b[32m━━━━━━━━━━━━━━━━━━━━\u001b[0m\u001b[37m\u001b[0m \u001b[1m34s\u001b[0m 1s/step - accuracy: 0.9121 - loss: 0.3413 - val_accuracy: 0.9474 - val_loss: 0.2008\n",
      "Epoch 13/20\n",
      "\u001b[1m31/31\u001b[0m \u001b[32m━━━━━━━━━━━━━━━━━━━━\u001b[0m\u001b[37m\u001b[0m \u001b[1m34s\u001b[0m 1s/step - accuracy: 0.9427 - loss: 0.2511 - val_accuracy: 0.9363 - val_loss: 0.2442\n",
      "Epoch 14/20\n",
      "\u001b[1m31/31\u001b[0m \u001b[32m━━━━━━━━━━━━━━━━━━━━\u001b[0m\u001b[37m\u001b[0m \u001b[1m33s\u001b[0m 1s/step - accuracy: 0.9272 - loss: 0.2929 - val_accuracy: 0.9717 - val_loss: 0.1058\n",
      "Epoch 15/20\n",
      "\u001b[1m31/31\u001b[0m \u001b[32m━━━━━━━━━━━━━━━━━━━━\u001b[0m\u001b[37m\u001b[0m \u001b[1m31s\u001b[0m 986ms/step - accuracy: 0.9491 - loss: 0.1979 - val_accuracy: 0.9646 - val_loss: 0.1305\n",
      "Epoch 16/20\n",
      "\u001b[1m31/31\u001b[0m \u001b[32m━━━━━━━━━━━━━━━━━━━━\u001b[0m\u001b[37m\u001b[0m \u001b[1m30s\u001b[0m 979ms/step - accuracy: 0.9373 - loss: 0.2086 - val_accuracy: 0.9737 - val_loss: 0.0862\n",
      "Epoch 17/20\n",
      "\u001b[1m31/31\u001b[0m \u001b[32m━━━━━━━━━━━━━━━━━━━━\u001b[0m\u001b[37m\u001b[0m \u001b[1m30s\u001b[0m 977ms/step - accuracy: 0.9680 - loss: 0.1378 - val_accuracy: 0.9717 - val_loss: 0.2124\n",
      "Epoch 18/20\n",
      "\u001b[1m31/31\u001b[0m \u001b[32m━━━━━━━━━━━━━━━━━━━━\u001b[0m\u001b[37m\u001b[0m \u001b[1m30s\u001b[0m 966ms/step - accuracy: 0.9629 - loss: 0.2641 - val_accuracy: 0.9747 - val_loss: 0.1040\n",
      "Epoch 19/20\n",
      "\u001b[1m31/31\u001b[0m \u001b[32m━━━━━━━━━━━━━━━━━━━━\u001b[0m\u001b[37m\u001b[0m \u001b[1m31s\u001b[0m 1s/step - accuracy: 0.9654 - loss: 0.1147 - val_accuracy: 0.9818 - val_loss: 0.0632\n",
      "Epoch 20/20\n",
      "\u001b[1m31/31\u001b[0m \u001b[32m━━━━━━━━━━━━━━━━━━━━\u001b[0m\u001b[37m\u001b[0m \u001b[1m31s\u001b[0m 988ms/step - accuracy: 0.9846 - loss: 0.0825 - val_accuracy: 0.9899 - val_loss: 0.0463\n"
     ]
    }
   ],
   "source": [
    "training_history = model.fit(x=training_set,validation_data=validation_set,epochs=20)"
   ]
  },
  {
   "cell_type": "markdown",
   "id": "9d9ed97e-b835-4060-877a-5d8ba5477a57",
   "metadata": {},
   "source": [
    "## Model Evaluation"
   ]
  },
  {
   "cell_type": "code",
   "execution_count": 65,
   "id": "e873e196-a7be-4bf5-b34f-8d229e4fb204",
   "metadata": {},
   "outputs": [
    {
     "name": "stdout",
     "output_type": "stream",
     "text": [
      "\u001b[1m31/31\u001b[0m \u001b[32m━━━━━━━━━━━━━━━━━━━━\u001b[0m\u001b[37m\u001b[0m \u001b[1m4s\u001b[0m 135ms/step - accuracy: 0.9897 - loss: 0.0492\n"
     ]
    }
   ],
   "source": [
    "train_loss,train_acc = model.evaluate(training_set)"
   ]
  },
  {
   "cell_type": "code",
   "execution_count": 66,
   "id": "533da31a-be5a-4281-8a02-f9d8db016ffe",
   "metadata": {},
   "outputs": [
    {
     "name": "stdout",
     "output_type": "stream",
     "text": [
      "\u001b[1m31/31\u001b[0m \u001b[32m━━━━━━━━━━━━━━━━━━━━\u001b[0m\u001b[37m\u001b[0m \u001b[1m4s\u001b[0m 139ms/step - accuracy: 0.9913 - loss: 0.0351\n"
     ]
    }
   ],
   "source": [
    "val_loss,val_acc = model.evaluate(validation_set)"
   ]
  },
  {
   "cell_type": "markdown",
   "id": "982ebd55-43eb-4a3c-a085-65d18d980e65",
   "metadata": {},
   "source": [
    "## Saving model"
   ]
  },
  {
   "cell_type": "code",
   "execution_count": 69,
   "id": "a5008f34-b406-4805-8eea-bdd79093183b",
   "metadata": {},
   "outputs": [],
   "source": [
    "model.save(\"trained_model.keras\")"
   ]
  },
  {
   "cell_type": "code",
   "execution_count": 71,
   "id": "c5476f25-81fe-4345-a264-c831594457e1",
   "metadata": {},
   "outputs": [
    {
     "data": {
      "text/plain": [
       "{'accuracy': [0.656218409538269,\n",
       "  0.647118330001831,\n",
       "  0.7371081709861755,\n",
       "  0.7947421669960022,\n",
       "  0.8119312524795532,\n",
       "  0.8038422465324402,\n",
       "  0.8645095825195312,\n",
       "  0.8857432007789612,\n",
       "  0.8645095825195312,\n",
       "  0.8857432007789612,\n",
       "  0.8614762425422668,\n",
       "  0.9100100994110107,\n",
       "  0.9352881908416748,\n",
       "  0.9383215308189392,\n",
       "  0.9534883499145508,\n",
       "  0.9615773558616638,\n",
       "  0.9676440954208374,\n",
       "  0.9544994831085205,\n",
       "  0.9696663022041321,\n",
       "  0.9868553876876831],\n",
       " 'loss': [1.052761197090149,\n",
       "  1.0569792985916138,\n",
       "  0.7813372611999512,\n",
       "  0.7296466827392578,\n",
       "  0.6196247935295105,\n",
       "  0.6330810189247131,\n",
       "  0.4498465657234192,\n",
       "  0.42084065079689026,\n",
       "  0.5266900658607483,\n",
       "  0.3629129230976105,\n",
       "  0.4738985002040863,\n",
       "  0.3562905788421631,\n",
       "  0.2503005862236023,\n",
       "  0.2358347326517105,\n",
       "  0.1642724573612213,\n",
       "  0.15874166786670685,\n",
       "  0.11470010131597519,\n",
       "  0.25891491770744324,\n",
       "  0.09803179651498795,\n",
       "  0.08031602203845978],\n",
       " 'val_accuracy': [0.6541961431503296,\n",
       "  0.7360970973968506,\n",
       "  0.7957533001899719,\n",
       "  0.8361981511116028,\n",
       "  0.8513650298118591,\n",
       "  0.873609721660614,\n",
       "  0.89180988073349,\n",
       "  0.9049544930458069,\n",
       "  0.9130434989929199,\n",
       "  0.9120323657989502,\n",
       "  0.9120323657989502,\n",
       "  0.9474216103553772,\n",
       "  0.9362992644309998,\n",
       "  0.9716885685920715,\n",
       "  0.9646106958389282,\n",
       "  0.973710834980011,\n",
       "  0.9716885685920715,\n",
       "  0.9747219681739807,\n",
       "  0.9817997813224792,\n",
       "  0.9898887872695923],\n",
       " 'val_loss': [1.0994919538497925,\n",
       "  0.8211271166801453,\n",
       "  0.624110996723175,\n",
       "  0.5423428416252136,\n",
       "  0.5314685702323914,\n",
       "  0.4629349410533905,\n",
       "  0.3754251301288605,\n",
       "  0.30712664127349854,\n",
       "  0.31273818016052246,\n",
       "  0.31821882724761963,\n",
       "  0.3156205117702484,\n",
       "  0.2007550597190857,\n",
       "  0.24422135949134827,\n",
       "  0.10580478608608246,\n",
       "  0.13045251369476318,\n",
       "  0.08623673021793365,\n",
       "  0.21244002878665924,\n",
       "  0.10402137041091919,\n",
       "  0.06321253627538681,\n",
       "  0.04628656059503555]}"
      ]
     },
     "execution_count": 71,
     "metadata": {},
     "output_type": "execute_result"
    }
   ],
   "source": [
    "training_history.history"
   ]
  },
  {
   "cell_type": "code",
   "execution_count": 73,
   "id": "325e7614-1a61-4009-8394-66bf9661b146",
   "metadata": {},
   "outputs": [
    {
     "data": {
      "text/plain": [
       "[0.656218409538269,\n",
       " 0.647118330001831,\n",
       " 0.7371081709861755,\n",
       " 0.7947421669960022,\n",
       " 0.8119312524795532,\n",
       " 0.8038422465324402,\n",
       " 0.8645095825195312,\n",
       " 0.8857432007789612,\n",
       " 0.8645095825195312,\n",
       " 0.8857432007789612,\n",
       " 0.8614762425422668,\n",
       " 0.9100100994110107,\n",
       " 0.9352881908416748,\n",
       " 0.9383215308189392,\n",
       " 0.9534883499145508,\n",
       " 0.9615773558616638,\n",
       " 0.9676440954208374,\n",
       " 0.9544994831085205,\n",
       " 0.9696663022041321,\n",
       " 0.9868553876876831]"
      ]
     },
     "execution_count": 73,
     "metadata": {},
     "output_type": "execute_result"
    }
   ],
   "source": [
    "training_history.history['accuracy']"
   ]
  },
  {
   "cell_type": "code",
   "execution_count": 77,
   "id": "3a9129e6-1e7e-462c-9ba2-f4f21a8ed423",
   "metadata": {},
   "outputs": [
    {
     "data": {
      "text/plain": [
       "[0.6541961431503296,\n",
       " 0.7360970973968506,\n",
       " 0.7957533001899719,\n",
       " 0.8361981511116028,\n",
       " 0.8513650298118591,\n",
       " 0.873609721660614,\n",
       " 0.89180988073349,\n",
       " 0.9049544930458069,\n",
       " 0.9130434989929199,\n",
       " 0.9120323657989502,\n",
       " 0.9120323657989502,\n",
       " 0.9474216103553772,\n",
       " 0.9362992644309998,\n",
       " 0.9716885685920715,\n",
       " 0.9646106958389282,\n",
       " 0.973710834980011,\n",
       " 0.9716885685920715,\n",
       " 0.9747219681739807,\n",
       " 0.9817997813224792,\n",
       " 0.9898887872695923]"
      ]
     },
     "execution_count": 77,
     "metadata": {},
     "output_type": "execute_result"
    }
   ],
   "source": [
    "training_history.history['val_accuracy']"
   ]
  },
  {
   "cell_type": "markdown",
   "id": "138ac6c0-a104-4ac5-b602-bb730531051a",
   "metadata": {},
   "source": [
    "## Accuracy Visualization"
   ]
  },
  {
   "cell_type": "code",
   "execution_count": 86,
   "id": "4af3937d-6a24-44bb-bb7d-d6cdeb06b422",
   "metadata": {},
   "outputs": [
    {
     "data": {
      "image/png": "[encoded data removed]",
      "text/plain": [
       "<Figure size 640x480 with 1 Axes>"
      ]
     },
     "metadata": {},
     "output_type": "display_data"
    }
   ],
   "source": [
    "epochs = [i for i in range(1,21)]\n",
    "plt.plot(epochs,training_history.history['accuracy'],color='red',label='Training Accuracy')\n",
    "plt.plot(epochs,training_history.history['val_accuracy'],color='blue',label='Validation Accuracy')\n",
    "\n",
    "plt.xlabel(\"no.ofepochs\")\n",
    "plt.ylabel(\"Accuracy results\")\n",
    "plt.title(\"Visualization of Accuracy result\")\n",
    "plt.legend()\n",
    "plt.show()"
   ]
  },
  {
   "cell_type": "markdown",
   "id": "da3e31b9-f4fa-4978-b11f-79d5145712e4",
   "metadata": {},
   "source": [
    "## Some other metrics for model Evaluation"
   ]
  },
  {
   "cell_type": "code",
   "execution_count": 90,
   "id": "2868df03-0c1d-4f5c-ad9d-b947d3e964b9",
   "metadata": {},
   "outputs": [
    {
     "data": {
      "text/plain": [
       "['Avulsion fracture',\n",
       " 'Comminuted fracture',\n",
       " 'Fracture Dislocation',\n",
       " 'Greenstick fracture',\n",
       " 'Hairline Fracture',\n",
       " 'Impacted fracture',\n",
       " 'Longitudinal fracture',\n",
       " 'Oblique fracture',\n",
       " 'Pathological fracture',\n",
       " 'Spiral Fracture']"
      ]
     },
     "execution_count": 90,
     "metadata": {},
     "output_type": "execute_result"
    }
   ],
   "source": [
    "class_name  = validation_set.class_names\n",
    "class_name"
   ]
  },
  {
   "cell_type": "code",
   "execution_count": 91,
   "id": "a5ed9c63-2fff-4b68-b5c8-87708666c975",
   "metadata": {},
   "outputs": [
    {
     "name": "stdout",
     "output_type": "stream",
     "text": [
      "Found 989 files belonging to 10 classes.\n"
     ]
    }
   ],
   "source": [
    "test_set = tf.keras.utils.image_dataset_from_directory(\n",
    "    'valid',\n",
    "    labels=\"inferred\",\n",
    "    label_mode=\"categorical\",\n",
    "    class_names=None,\n",
    "    color_mode=\"rgb\",\n",
    "    batch_size=32,\n",
    "    image_size=(128, 128),\n",
    "    shuffle=False,\n",
    "    seed=None,\n",
    "    validation_split=None,\n",
    "    subset=None,\n",
    "    interpolation=\"bilinear\",\n",
    "    follow_links=False,\n",
    "    crop_to_aspect_ratio=False,\n",
    "    pad_to_aspect_ratio=False,\n",
    "    \n",
    ")"
   ]
  },
  {
   "cell_type": "code",
   "execution_count": 93,
   "id": "26f2795c-2e59-4a7d-a931-f99063965b0d",
   "metadata": {},
   "outputs": [
    {
     "name": "stdout",
     "output_type": "stream",
     "text": [
      "\u001b[1m31/31\u001b[0m \u001b[32m━━━━━━━━━━━━━━━━━━━━\u001b[0m\u001b[37m\u001b[0m \u001b[1m7s\u001b[0m 209ms/step\n"
     ]
    },
    {
     "data": {
      "text/plain": [
       "(array([[9.9899763e-01, 6.9810063e-05, 2.3852681e-06, ..., 1.4183372e-05,\n",
       "         4.7415127e-05, 1.7219803e-07],\n",
       "        [9.9916887e-01, 7.0543529e-04, 2.9293553e-06, ..., 7.1766340e-07,\n",
       "         1.3199888e-06, 1.2036332e-06],\n",
       "        [9.9939036e-01, 3.8222357e-04, 1.4166244e-07, ..., 6.0951428e-05,\n",
       "         6.1959174e-05, 6.7382265e-05],\n",
       "        ...,\n",
       "        [1.0763620e-06, 8.1289891e-06, 1.8529027e-09, ..., 7.4405449e-08,\n",
       "         3.3171887e-07, 9.9995005e-01],\n",
       "        [4.4070430e-07, 2.9439791e-06, 6.2905188e-13, ..., 5.7831917e-10,\n",
       "         1.3499640e-06, 9.9999404e-01],\n",
       "        [7.5394775e-23, 1.6442964e-19, 6.5862959e-22, ..., 4.3461993e-18,\n",
       "         4.1290430e-14, 1.0000000e+00]], dtype=float32),\n",
       " (989, 10))"
      ]
     },
     "execution_count": 93,
     "metadata": {},
     "output_type": "execute_result"
    }
   ],
   "source": [
    "y_pred = model.predict(test_set)\n",
    "y_pred,y_pred.shape"
   ]
  },
  {
   "cell_type": "code",
   "execution_count": 94,
   "id": "187797c2-7207-4cc9-9c8b-243ea3bf3355",
   "metadata": {},
   "outputs": [],
   "source": [
    "predicted_categories = tf.argmax(y_pred,axis=1)"
   ]
  },
  {
   "cell_type": "code",
   "execution_count": 95,
   "id": "f7170ad4-50bf-4418-b311-bd536ca0bbbe",
   "metadata": {},
   "outputs": [
    {
     "data": {
      "text/plain": [
       "<tf.Tensor: shape=(989,), dtype=int64, numpy=\n",
       "array([0, 0, 0, 0, 0, 0, 0, 0, 0, 0, 0, 0, 0, 0, 0, 0, 0, 0, 0, 0, 0, 0,\n",
       "       0, 0, 0, 0, 0, 0, 0, 0, 0, 0, 0, 0, 0, 0, 0, 0, 0, 0, 0, 0, 0, 0,\n",
       "       0, 0, 0, 0, 0, 0, 0, 0, 0, 0, 0, 0, 0, 0, 0, 0, 0, 0, 0, 0, 0, 0,\n",
       "       0, 0, 0, 0, 0, 0, 0, 0, 0, 0, 0, 0, 0, 0, 0, 0, 0, 0, 0, 0, 0, 0,\n",
       "       0, 0, 0, 0, 0, 0, 0, 0, 0, 0, 0, 0, 0, 0, 0, 0, 0, 0, 0, 0, 0, 1,\n",
       "       1, 1, 1, 1, 1, 1, 1, 1, 1, 1, 1, 1, 1, 1, 1, 1, 1, 1, 1, 1, 1, 1,\n",
       "       1, 1, 1, 1, 1, 1, 1, 1, 1, 1, 1, 1, 1, 1, 1, 1, 1, 1, 1, 1, 1, 1,\n",
       "       1, 1, 1, 1, 1, 1, 1, 1, 1, 1, 1, 1, 1, 1, 1, 1, 1, 1, 1, 1, 1, 1,\n",
       "       1, 1, 1, 1, 1, 1, 1, 1, 1, 1, 1, 1, 1, 1, 1, 1, 1, 1, 1, 1, 1, 1,\n",
       "       1, 1, 1, 1, 1, 1, 1, 1, 1, 1, 1, 1, 1, 1, 1, 1, 1, 1, 1, 1, 1, 1,\n",
       "       1, 1, 1, 1, 1, 1, 1, 1, 1, 1, 1, 1, 1, 1, 1, 1, 1, 1, 1, 1, 1, 1,\n",
       "       1, 2, 2, 2, 2, 2, 2, 2, 2, 2, 2, 2, 2, 2, 2, 2, 2, 2, 0, 2, 2, 2,\n",
       "       2, 2, 2, 2, 2, 2, 2, 2, 2, 2, 2, 2, 2, 2, 2, 2, 2, 2, 2, 2, 2, 2,\n",
       "       2, 2, 2, 2, 2, 2, 2, 2, 2, 2, 2, 2, 2, 2, 2, 2, 2, 2, 2, 2, 2, 2,\n",
       "       2, 2, 2, 2, 2, 2, 2, 2, 2, 2, 2, 2, 2, 2, 2, 2, 2, 2, 2, 2, 2, 2,\n",
       "       2, 2, 2, 2, 2, 2, 2, 2, 2, 2, 2, 2, 2, 2, 2, 2, 2, 2, 2, 2, 2, 2,\n",
       "       2, 2, 2, 2, 2, 2, 2, 2, 2, 2, 2, 2, 2, 2, 2, 2, 2, 2, 2, 2, 2, 2,\n",
       "       2, 2, 2, 2, 2, 2, 3, 3, 3, 3, 3, 3, 3, 3, 3, 3, 3, 3, 3, 3, 3, 3,\n",
       "       3, 3, 3, 3, 3, 3, 3, 3, 3, 3, 3, 3, 3, 3, 3, 3, 3, 3, 3, 3, 3, 3,\n",
       "       3, 3, 3, 3, 3, 3, 3, 3, 3, 3, 3, 3, 3, 3, 3, 3, 3, 3, 3, 3, 3, 5,\n",
       "       3, 3, 3, 3, 3, 3, 3, 3, 3, 3, 3, 3, 3, 3, 3, 3, 3, 3, 3, 3, 3, 3,\n",
       "       3, 3, 3, 3, 3, 3, 3, 3, 3, 3, 3, 3, 3, 3, 3, 3, 3, 3, 3, 0, 3, 3,\n",
       "       3, 3, 4, 4, 4, 4, 4, 4, 4, 4, 4, 4, 4, 4, 4, 4, 4, 4, 4, 4, 4, 4,\n",
       "       4, 4, 4, 4, 4, 4, 4, 4, 4, 4, 4, 4, 4, 4, 4, 4, 4, 4, 4, 4, 4, 4,\n",
       "       4, 4, 4, 4, 4, 4, 4, 4, 4, 4, 4, 4, 4, 4, 4, 4, 4, 4, 4, 4, 4, 4,\n",
       "       4, 4, 4, 4, 4, 4, 4, 4, 4, 4, 4, 4, 4, 4, 4, 4, 4, 4, 4, 4, 4, 4,\n",
       "       4, 4, 4, 4, 4, 4, 4, 4, 4, 4, 4, 4, 4, 4, 4, 5, 5, 5, 5, 5, 5, 5,\n",
       "       5, 5, 5, 5, 5, 5, 5, 5, 5, 5, 5, 5, 5, 9, 5, 5, 5, 5, 5, 5, 5, 5,\n",
       "       5, 5, 5, 5, 5, 5, 5, 5, 5, 5, 5, 5, 5, 5, 5, 5, 5, 5, 5, 5, 5, 5,\n",
       "       5, 5, 5, 5, 5, 5, 5, 5, 5, 5, 5, 5, 5, 5, 5, 5, 5, 5, 5, 5, 5, 5,\n",
       "       5, 5, 6, 6, 6, 6, 6, 6, 6, 6, 6, 6, 6, 6, 6, 6, 6, 6, 6, 6, 6, 6,\n",
       "       6, 6, 6, 6, 6, 6, 6, 6, 6, 6, 6, 6, 6, 6, 6, 6, 6, 6, 6, 6, 6, 6,\n",
       "       6, 6, 6, 6, 9, 6, 6, 6, 6, 6, 6, 6, 6, 6, 6, 6, 6, 6, 6, 6, 6, 6,\n",
       "       6, 6, 6, 6, 7, 7, 7, 7, 7, 7, 7, 7, 7, 7, 7, 7, 7, 7, 7, 7, 7, 7,\n",
       "       7, 7, 7, 7, 7, 7, 7, 7, 7, 7, 7, 7, 7, 7, 7, 7, 7, 7, 7, 7, 7, 7,\n",
       "       7, 7, 7, 7, 7, 7, 7, 7, 7, 7, 7, 7, 7, 7, 7, 7, 7, 7, 7, 7, 7, 7,\n",
       "       7, 7, 7, 7, 7, 7, 7, 8, 8, 8, 8, 8, 8, 8, 8, 8, 8, 8, 8, 8, 3, 8,\n",
       "       8, 8, 8, 8, 8, 8, 8, 8, 8, 8, 8, 8, 8, 3, 8, 8, 8, 8, 8, 8, 8, 8,\n",
       "       8, 8, 8, 8, 8, 8, 8, 8, 8, 3, 8, 8, 8, 8, 8, 8, 8, 8, 8, 8, 8, 8,\n",
       "       8, 8, 8, 8, 8, 8, 8, 8, 8, 8, 8, 8, 8, 8, 8, 8, 8, 8, 8, 8, 8, 8,\n",
       "       8, 8, 8, 8, 8, 8, 8, 8, 8, 8, 8, 8, 8, 8, 8, 8, 8, 8, 8, 8, 8, 8,\n",
       "       8, 8, 8, 8, 8, 8, 8, 8, 8, 8, 8, 8, 8, 9, 9, 9, 9, 9, 9, 9, 9, 9,\n",
       "       9, 9, 9, 9, 9, 9, 9, 9, 9, 9, 9, 9, 9, 9, 9, 9, 9, 9, 9, 9, 9, 9,\n",
       "       9, 9, 9, 9, 9, 9, 9, 9, 9, 9, 9, 5, 9, 9, 9, 9, 9, 9, 9, 9, 9, 9,\n",
       "       9, 9, 9, 9, 9, 9, 9, 9, 9, 1, 9, 9, 9, 9, 9, 9, 9, 9, 9, 9, 9],\n",
       "      dtype=int64)>"
      ]
     },
     "execution_count": 95,
     "metadata": {},
     "output_type": "execute_result"
    }
   ],
   "source": [
    "predicted_categories"
   ]
  },
  {
   "cell_type": "code",
   "execution_count": 96,
   "id": "9feba04d-f7e5-4621-b660-e412e410ebd3",
   "metadata": {},
   "outputs": [
    {
     "data": {
      "text/plain": [
       "<tf.Tensor: shape=(989, 10), dtype=float32, numpy=\n",
       "array([[1., 0., 0., ..., 0., 0., 0.],\n",
       "       [1., 0., 0., ..., 0., 0., 0.],\n",
       "       [1., 0., 0., ..., 0., 0., 0.],\n",
       "       ...,\n",
       "       [0., 0., 0., ..., 0., 0., 1.],\n",
       "       [0., 0., 0., ..., 0., 0., 1.],\n",
       "       [0., 0., 0., ..., 0., 0., 1.]], dtype=float32)>"
      ]
     },
     "execution_count": 96,
     "metadata": {},
     "output_type": "execute_result"
    }
   ],
   "source": [
    "true_categories = tf.concat([y for x,y in test_set],axis=0)\n",
    "true_categories"
   ]
  },
  {
   "cell_type": "code",
   "execution_count": 97,
   "id": "d088e908-b330-4b91-b2d4-fb1780aa7313",
   "metadata": {},
   "outputs": [
    {
     "data": {
      "text/plain": [
       "<tf.Tensor: shape=(989,), dtype=int64, numpy=\n",
       "array([0, 0, 0, 0, 0, 0, 0, 0, 0, 0, 0, 0, 0, 0, 0, 0, 0, 0, 0, 0, 0, 0,\n",
       "       0, 0, 0, 0, 0, 0, 0, 0, 0, 0, 0, 0, 0, 0, 0, 0, 0, 0, 0, 0, 0, 0,\n",
       "       0, 0, 0, 0, 0, 0, 0, 0, 0, 0, 0, 0, 0, 0, 0, 0, 0, 0, 0, 0, 0, 0,\n",
       "       0, 0, 0, 0, 0, 0, 0, 0, 0, 0, 0, 0, 0, 0, 0, 0, 0, 0, 0, 0, 0, 0,\n",
       "       0, 0, 0, 0, 0, 0, 0, 0, 0, 0, 0, 0, 0, 0, 0, 0, 0, 0, 0, 0, 0, 1,\n",
       "       1, 1, 1, 1, 1, 1, 1, 1, 1, 1, 1, 1, 1, 1, 1, 1, 1, 1, 1, 1, 1, 1,\n",
       "       1, 1, 1, 1, 1, 1, 1, 1, 1, 1, 1, 1, 1, 1, 1, 1, 1, 1, 1, 1, 1, 1,\n",
       "       1, 1, 1, 1, 1, 1, 1, 1, 1, 1, 1, 1, 1, 1, 1, 1, 1, 1, 1, 1, 1, 1,\n",
       "       1, 1, 1, 1, 1, 1, 1, 1, 1, 1, 1, 1, 1, 1, 1, 1, 1, 1, 1, 1, 1, 1,\n",
       "       1, 1, 1, 1, 1, 1, 1, 1, 1, 1, 1, 1, 1, 1, 1, 1, 1, 1, 1, 1, 1, 1,\n",
       "       1, 1, 1, 1, 1, 1, 1, 1, 1, 1, 1, 1, 1, 1, 1, 1, 1, 1, 1, 1, 1, 1,\n",
       "       1, 2, 2, 2, 2, 2, 2, 2, 2, 2, 2, 2, 2, 2, 2, 2, 2, 2, 2, 2, 2, 2,\n",
       "       2, 2, 2, 2, 2, 2, 2, 2, 2, 2, 2, 2, 2, 2, 2, 2, 2, 2, 2, 2, 2, 2,\n",
       "       2, 2, 2, 2, 2, 2, 2, 2, 2, 2, 2, 2, 2, 2, 2, 2, 2, 2, 2, 2, 2, 2,\n",
       "       2, 2, 2, 2, 2, 2, 2, 2, 2, 2, 2, 2, 2, 2, 2, 2, 2, 2, 2, 2, 2, 2,\n",
       "       2, 2, 2, 2, 2, 2, 2, 2, 2, 2, 2, 2, 2, 2, 2, 2, 2, 2, 2, 2, 2, 2,\n",
       "       2, 2, 2, 2, 2, 2, 2, 2, 2, 2, 2, 2, 2, 2, 2, 2, 2, 2, 2, 2, 2, 2,\n",
       "       2, 2, 2, 2, 2, 2, 3, 3, 3, 3, 3, 3, 3, 3, 3, 3, 3, 3, 3, 3, 3, 3,\n",
       "       3, 3, 3, 3, 3, 3, 3, 3, 3, 3, 3, 3, 3, 3, 3, 3, 3, 3, 3, 3, 3, 3,\n",
       "       3, 3, 3, 3, 3, 3, 3, 3, 3, 3, 3, 3, 3, 3, 3, 3, 3, 3, 3, 3, 3, 3,\n",
       "       3, 3, 3, 3, 3, 3, 3, 3, 3, 3, 3, 3, 3, 3, 3, 3, 3, 3, 3, 3, 3, 3,\n",
       "       3, 3, 3, 3, 3, 3, 3, 3, 3, 3, 3, 3, 3, 3, 3, 3, 3, 3, 3, 3, 3, 3,\n",
       "       3, 3, 4, 4, 4, 4, 4, 4, 4, 4, 4, 4, 4, 4, 4, 4, 4, 4, 4, 4, 4, 4,\n",
       "       4, 4, 4, 4, 4, 4, 4, 4, 4, 4, 4, 4, 4, 4, 4, 4, 4, 4, 4, 4, 4, 4,\n",
       "       4, 4, 4, 4, 4, 4, 4, 4, 4, 4, 4, 4, 4, 4, 4, 4, 4, 4, 4, 4, 4, 4,\n",
       "       4, 4, 4, 4, 4, 4, 4, 4, 4, 4, 4, 4, 4, 4, 4, 4, 4, 4, 4, 4, 4, 4,\n",
       "       4, 4, 4, 4, 4, 4, 4, 4, 4, 4, 4, 4, 4, 4, 4, 5, 5, 5, 5, 5, 5, 5,\n",
       "       5, 5, 5, 5, 5, 5, 5, 5, 5, 5, 5, 5, 5, 5, 5, 5, 5, 5, 5, 5, 5, 5,\n",
       "       5, 5, 5, 5, 5, 5, 5, 5, 5, 5, 5, 5, 5, 5, 5, 5, 5, 5, 5, 5, 5, 5,\n",
       "       5, 5, 5, 5, 5, 5, 5, 5, 5, 5, 5, 5, 5, 5, 5, 5, 5, 5, 5, 5, 5, 5,\n",
       "       5, 5, 6, 6, 6, 6, 6, 6, 6, 6, 6, 6, 6, 6, 6, 6, 6, 6, 6, 6, 6, 6,\n",
       "       6, 6, 6, 6, 6, 6, 6, 6, 6, 6, 6, 6, 6, 6, 6, 6, 6, 6, 6, 6, 6, 6,\n",
       "       6, 6, 6, 6, 6, 6, 6, 6, 6, 6, 6, 6, 6, 6, 6, 6, 6, 6, 6, 6, 6, 6,\n",
       "       6, 6, 6, 6, 7, 7, 7, 7, 7, 7, 7, 7, 7, 7, 7, 7, 7, 7, 7, 7, 7, 7,\n",
       "       7, 7, 7, 7, 7, 7, 7, 7, 7, 7, 7, 7, 7, 7, 7, 7, 7, 7, 7, 7, 7, 7,\n",
       "       7, 7, 7, 7, 7, 7, 7, 7, 7, 7, 7, 7, 7, 7, 7, 7, 7, 7, 7, 7, 7, 7,\n",
       "       7, 7, 7, 7, 7, 7, 7, 8, 8, 8, 8, 8, 8, 8, 8, 8, 8, 8, 8, 8, 8, 8,\n",
       "       8, 8, 8, 8, 8, 8, 8, 8, 8, 8, 8, 8, 8, 8, 8, 8, 8, 8, 8, 8, 8, 8,\n",
       "       8, 8, 8, 8, 8, 8, 8, 8, 8, 8, 8, 8, 8, 8, 8, 8, 8, 8, 8, 8, 8, 8,\n",
       "       8, 8, 8, 8, 8, 8, 8, 8, 8, 8, 8, 8, 8, 8, 8, 8, 8, 8, 8, 8, 8, 8,\n",
       "       8, 8, 8, 8, 8, 8, 8, 8, 8, 8, 8, 8, 8, 8, 8, 8, 8, 8, 8, 8, 8, 8,\n",
       "       8, 8, 8, 8, 8, 8, 8, 8, 8, 8, 8, 8, 8, 9, 9, 9, 9, 9, 9, 9, 9, 9,\n",
       "       9, 9, 9, 9, 9, 9, 9, 9, 9, 9, 9, 9, 9, 9, 9, 9, 9, 9, 9, 9, 9, 9,\n",
       "       9, 9, 9, 9, 9, 9, 9, 9, 9, 9, 9, 9, 9, 9, 9, 9, 9, 9, 9, 9, 9, 9,\n",
       "       9, 9, 9, 9, 9, 9, 9, 9, 9, 9, 9, 9, 9, 9, 9, 9, 9, 9, 9, 9, 9],\n",
       "      dtype=int64)>"
      ]
     },
     "execution_count": 97,
     "metadata": {},
     "output_type": "execute_result"
    }
   ],
   "source": [
    "Y_true = tf.argmax(true_categories,axis=1)\n",
    "Y_true"
   ]
  },
  {
   "cell_type": "code",
   "execution_count": 102,
   "id": "5c317212-a80e-4930-8570-64f6b2896aa7",
   "metadata": {},
   "outputs": [
    {
     "name": "stdout",
     "output_type": "stream",
     "text": [
      "                       precision    recall  f1-score   support\n",
      "\n",
      "    Avulsion fracture       0.98      1.00      0.99       109\n",
      "  Comminuted fracture       0.99      1.00      1.00       134\n",
      " Fracture Dislocation       1.00      0.99      1.00       137\n",
      "  Greenstick fracture       0.97      0.98      0.98       106\n",
      "    Hairline Fracture       1.00      1.00      1.00       101\n",
      "    Impacted fracture       0.97      0.99      0.98        75\n",
      "Longitudinal fracture       1.00      0.99      0.99        68\n",
      "     Oblique fracture       1.00      1.00      1.00        69\n",
      "Pathological fracture       1.00      0.97      0.99       116\n",
      "      Spiral Fracture       0.97      0.97      0.97        74\n",
      "\n",
      "             accuracy                           0.99       989\n",
      "            macro avg       0.99      0.99      0.99       989\n",
      "         weighted avg       0.99      0.99      0.99       989\n",
      "\n"
     ]
    }
   ],
   "source": [
    "from sklearn.metrics import classification_report,confusion_matrix\n",
    "print(classification_report(Y_true,predicted_categories,target_names= class_name))"
   ]
  },
  {
   "cell_type": "code",
   "execution_count": 103,
   "id": "079670a0-8bf3-4328-ba63-7adc7d5b7387",
   "metadata": {},
   "outputs": [
    {
     "data": {
      "text/plain": [
       "(10, 10)"
      ]
     },
     "execution_count": 103,
     "metadata": {},
     "output_type": "execute_result"
    }
   ],
   "source": [
    "cm = confusion_matrix(Y_true,predicted_categories)\n",
    "cm.shape"
   ]
  },
  {
   "cell_type": "markdown",
   "id": "651c2e95-4990-46f9-9333-057ab8bb331a",
   "metadata": {},
   "source": [
    "## Confusion Matrix Visualization"
   ]
  },
  {
   "cell_type": "code",
   "execution_count": 111,
   "id": "7f4258a9-5b3a-49d5-98cd-6864fa966fa1",
   "metadata": {},
   "outputs": [
    {
     "data": {
      "image/png": "[encoded data removed]",
      "text/plain": [
       "<Figure size 4000x4000 with 2 Axes>"
      ]
     },
     "metadata": {},
     "output_type": "display_data"
    }
   ],
   "source": [
    "plt.figure(figsize=(40,40))\n",
    "sns.heatmap(cm,annot=True)\n",
    "plt.xlabel(\"Predicted class\",fontsize=20)\n",
    "plt.ylabel(\"Actual class\",fontsize=20)\n",
    "plt.title(\"Confusion Matrix\",fontsize=25)\n",
    "plt.show()\n"
   ]
  },
  {
   "cell_type": "code",
   "execution_count": null,
   "id": "bbe25a65-0437-49de-ab45-f2fca16ee09b",
   "metadata": {},
   "outputs": [],
   "source": []
  }
 ],
 "metadata": {
  "kernelspec": {
   "display_name": "Python 3 (ipykernel)",
   "language": "python",
   "name": "python3"
  },
  "language_info": {
   "codemirror_mode": {
    "name": "ipython",
    "version": 3
   },
   "file_extension": ".py",
   "mimetype": "text/x-python",
   "name": "python",
   "nbconvert_exporter": "python",
   "pygments_lexer": "ipython3",
   "version": "3.12.7"
  }
 },
 "nbformat": 4,
 "nbformat_minor": 5
}
